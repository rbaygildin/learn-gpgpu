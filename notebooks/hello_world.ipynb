{
  "nbformat": 4,
  "nbformat_minor": 0,
  "metadata": {
    "colab": {
      "name": "lean-gpu_hello-world",
      "provenance": [],
      "collapsed_sections": [],
      "toc_visible": true,
      "authorship_tag": "ABX9TyPs/tccgre9aMex+mNcQCYB",
      "include_colab_link": true
    },
    "kernelspec": {
      "name": "python3",
      "display_name": "Python 3"
    },
    "language_info": {
      "name": "python"
    },
    "accelerator": "GPU"
  },
  "cells": [
    {
      "cell_type": "markdown",
      "metadata": {
        "id": "view-in-github",
        "colab_type": "text"
      },
      "source": [
        "<a href=\"https://colab.research.google.com/github/rbaygildin/learn-gpgpu/blob/master/notebooks/hello_world.ipynb\" target=\"_parent\"><img src=\"https://colab.research.google.com/assets/colab-badge.svg\" alt=\"Open In Colab\"/></a>"
      ]
    },
    {
      "cell_type": "markdown",
      "source": [
        "# Learn CUDA C++ - Hello world!"
      ],
      "metadata": {
        "id": "s7bLNpqXZ2K4"
      }
    },
    {
      "cell_type": "code",
      "source": [
        "%%shell\n",
        "nvidia-smi"
      ],
      "metadata": {
        "colab": {
          "base_uri": "https://localhost:8080/"
        },
        "id": "6lOSs5r1XZAy",
        "outputId": "3d505f1d-df68-4e1a-8208-9d270ddb86ba"
      },
      "execution_count": null,
      "outputs": [
        {
          "output_type": "stream",
          "name": "stdout",
          "text": [
            "Thu Jan 13 16:55:38 2022       \n",
            "+-----------------------------------------------------------------------------+\n",
            "| NVIDIA-SMI 495.46       Driver Version: 460.32.03    CUDA Version: 11.2     |\n",
            "|-------------------------------+----------------------+----------------------+\n",
            "| GPU  Name        Persistence-M| Bus-Id        Disp.A | Volatile Uncorr. ECC |\n",
            "| Fan  Temp  Perf  Pwr:Usage/Cap|         Memory-Usage | GPU-Util  Compute M. |\n",
            "|                               |                      |               MIG M. |\n",
            "|===============================+======================+======================|\n",
            "|   0  Tesla T4            Off  | 00000000:00:04.0 Off |                    0 |\n",
            "| N/A   33C    P8     9W /  70W |      0MiB / 15109MiB |      0%      Default |\n",
            "|                               |                      |                  N/A |\n",
            "+-------------------------------+----------------------+----------------------+\n",
            "                                                                               \n",
            "+-----------------------------------------------------------------------------+\n",
            "| Processes:                                                                  |\n",
            "|  GPU   GI   CI        PID   Type   Process name                  GPU Memory |\n",
            "|        ID   ID                                                   Usage      |\n",
            "|=============================================================================|\n",
            "|  No running processes found                                                 |\n",
            "+-----------------------------------------------------------------------------+\n"
          ]
        },
        {
          "output_type": "execute_result",
          "data": {
            "text/plain": [
              ""
            ]
          },
          "metadata": {},
          "execution_count": 4
        }
      ]
    },
    {
      "cell_type": "markdown",
      "source": [
        ""
      ],
      "metadata": {
        "id": "I6GFy6JZaAuC"
      }
    },
    {
      "cell_type": "code",
      "source": [
        "%%writefile hello.cu\n",
        "\n",
        "#include <stdio.h>\n",
        "\n",
        "__global__ void cuda_hello(){\n",
        "    printf(\"Hello World from GPU!\\n\");\n",
        "}\n",
        "\n",
        "int main() {\n",
        "    cuda_hello<<<1,1>>>(); \n",
        "    cudaDeviceSynchronize();\n",
        "    return 0;\n",
        "}"
      ],
      "metadata": {
        "colab": {
          "base_uri": "https://localhost:8080/"
        },
        "id": "QYaGWFzG9qEA",
        "outputId": "67dd73ff-4761-4cc2-d5c9-5ff6d2aa6a10"
      },
      "execution_count": null,
      "outputs": [
        {
          "output_type": "stream",
          "name": "stdout",
          "text": [
            "Writing hello.cu\n"
          ]
        }
      ]
    },
    {
      "cell_type": "code",
      "source": [
        "%%shell\n",
        "nvcc hello.cu -o hello"
      ],
      "metadata": {
        "colab": {
          "base_uri": "https://localhost:8080/"
        },
        "id": "2sv0OP-i-LL5",
        "outputId": "85847626-9398-4e99-f05c-f581bfef8de8"
      },
      "execution_count": null,
      "outputs": [
        {
          "output_type": "execute_result",
          "data": {
            "text/plain": [
              ""
            ]
          },
          "metadata": {},
          "execution_count": 2
        }
      ]
    },
    {
      "cell_type": "code",
      "source": [
        "%%shell\n",
        "./hello\n",
        "nvprof ./hello"
      ],
      "metadata": {
        "colab": {
          "base_uri": "https://localhost:8080/"
        },
        "id": "MJWAY9nZ_DVZ",
        "outputId": "6d8b8f38-72b3-466c-858e-f480cf7835a4"
      },
      "execution_count": null,
      "outputs": [
        {
          "output_type": "stream",
          "name": "stdout",
          "text": [
            "Hello World from GPU!\n",
            "==156== NVPROF is profiling process 156, command: ./hello\n",
            "Hello World from GPU!\n",
            "==156== Profiling application: ./hello\n",
            "==156== Profiling result:\n",
            "            Type  Time(%)      Time     Calls       Avg       Min       Max  Name\n",
            " GPU activities:  100.00%  79.390us         1  79.390us  79.390us  79.390us  cuda_hello(void)\n",
            "      API calls:   99.76%  299.15ms         1  299.15ms  299.15ms  299.15ms  cudaLaunchKernel\n",
            "                    0.15%  442.63us         1  442.63us  442.63us  442.63us  cuDeviceTotalMem\n",
            "                    0.05%  152.58us       101  1.5100us     144ns  63.574us  cuDeviceGetAttribute\n",
            "                    0.03%  99.210us         1  99.210us  99.210us  99.210us  cudaDeviceSynchronize\n",
            "                    0.01%  27.066us         1  27.066us  27.066us  27.066us  cuDeviceGetName\n",
            "                    0.00%  6.1700us         1  6.1700us  6.1700us  6.1700us  cuDeviceGetPCIBusId\n",
            "                    0.00%  1.3930us         3     464ns     205ns     831ns  cuDeviceGetCount\n",
            "                    0.00%  1.2930us         2     646ns     336ns     957ns  cuDeviceGet\n",
            "                    0.00%     268ns         1     268ns     268ns     268ns  cuDeviceGetUuid\n"
          ]
        },
        {
          "output_type": "execute_result",
          "data": {
            "text/plain": [
              ""
            ]
          },
          "metadata": {},
          "execution_count": 3
        }
      ]
    },
    {
      "cell_type": "code",
      "source": [
        "%%writefile random.cu\n",
        "\n",
        "#include <stdio.h>\n",
        "\n",
        "#define N 5\n",
        "#define NSIZE (N * sizeof(int))\n",
        "\n",
        "__global__ void add_vectors(int* a, int* b, int* res){\n",
        "    int i = blockIdx.x;\n",
        "    printf(\"Call at block%d\\n\", i);\n",
        "    res[i] = a[i] + b[i];\n",
        "    printf(\"Set res as %d + %d = %d\\n\", a[i], b[i], res[i]);\n",
        "}\n",
        "\n",
        "int main(){\n",
        "    int* h_a = (int*) malloc(NSIZE);\n",
        "    int* h_b = (int*) malloc(NSIZE);\n",
        "    int* h_res = (int*) malloc(NSIZE);\n",
        "   \n",
        "\n",
        "    printf(\"Initialize a and b\\n\");\n",
        "    for(int i = 0; i < N; i++){\n",
        "        h_a[i] = i;\n",
        "        h_b[i] = N - i;\n",
        "        printf(\"Set a = %d, b = %d\\n\", h_a[i], h_b[i]);\n",
        "    }\n",
        "\n",
        "    int* d_a = NULL;\n",
        "    int* d_b = NULL;\n",
        "    int* d_res = NULL;\n",
        "    cudaMalloc((void**)&d_a, NSIZE);\n",
        "    cudaMalloc((void**)&d_b, NSIZE);\n",
        "    cudaMalloc((void**)&d_res, NSIZE);\n",
        "\n",
        "    cudaMemcpy(d_a, h_a, NSIZE, cudaMemcpyHostToDevice);\n",
        "    cudaMemcpy(d_b, h_b, NSIZE, cudaMemcpyHostToDevice);\n",
        "\n",
        "\n",
        "    add_vectors<<<N, 1>>>(d_a, d_b, d_res);\n",
        "    cudaDeviceSynchronize();\n",
        "\n",
        "    cudaMemcpy(h_res, d_res, NSIZE, cudaMemcpyDeviceToHost);\n",
        "    cudaFree(d_a);\n",
        "    cudaFree(d_b);\n",
        "    cudaFree(d_res);\n",
        "\n",
        "    for(int i = 0; i < N; i++){\n",
        "        printf(\"res[%d] = %d\\n\", i, h_res[i]);\n",
        "    }\n",
        "\n",
        "    free(h_a);\n",
        "    free(h_b);\n",
        "    free(h_res);\n",
        "    return 0;\n",
        "}"
      ],
      "metadata": {
        "colab": {
          "base_uri": "https://localhost:8080/"
        },
        "id": "NHtyyrCy05rz",
        "outputId": "fd662412-f49e-4b00-9749-6027c6ba2e0b"
      },
      "execution_count": null,
      "outputs": [
        {
          "output_type": "stream",
          "name": "stdout",
          "text": [
            "Overwriting random.cu\n"
          ]
        }
      ]
    },
    {
      "cell_type": "code",
      "source": [
        "%%shell\n",
        "nvcc random.cu -o random\n",
        "./random"
      ],
      "metadata": {
        "colab": {
          "base_uri": "https://localhost:8080/"
        },
        "id": "_bTWQvbs4LMd",
        "outputId": "6bb25cbd-71db-4ce4-89de-f84b93c666ab"
      },
      "execution_count": null,
      "outputs": [
        {
          "output_type": "stream",
          "name": "stdout",
          "text": [
            "Initialize a and b\n",
            "Set a = 0, b = 5\n",
            "Set a = 1, b = 4\n",
            "Set a = 2, b = 3\n",
            "Set a = 3, b = 2\n",
            "Set a = 4, b = 1\n",
            "Call at block 2\n",
            "Call at block 0\n",
            "Call at block 4\n",
            "Call at block 3\n",
            "Call at block 1\n",
            "Set res as 2 + 3 = 5\n",
            "Set res as 0 + 5 = 5\n",
            "Set res as 1 + 4 = 5\n",
            "Set res as 3 + 2 = 5\n",
            "Set res as 4 + 1 = 5\n",
            "res[0] = 5\n",
            "res[1] = 5\n",
            "res[2] = 5\n",
            "res[3] = 5\n",
            "res[4] = 5\n"
          ]
        },
        {
          "output_type": "execute_result",
          "data": {
            "text/plain": [
              ""
            ]
          },
          "metadata": {},
          "execution_count": 25
        }
      ]
    }
  ]
}